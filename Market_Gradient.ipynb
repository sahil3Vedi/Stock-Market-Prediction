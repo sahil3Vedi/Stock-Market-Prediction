{
  "nbformat": 4,
  "nbformat_minor": 0,
  "metadata": {
    "colab": {
      "name": "Market Gradient.ipynb",
      "provenance": [],
      "collapsed_sections": [],
      "authorship_tag": "ABX9TyMbkFDVeqpk59AaVhPlMF6h",
      "include_colab_link": true
    },
    "kernelspec": {
      "name": "python3",
      "display_name": "Python 3"
    }
  },
  "cells": [
    {
      "cell_type": "markdown",
      "metadata": {
        "id": "view-in-github",
        "colab_type": "text"
      },
      "source": [
        "<a href=\"https://colab.research.google.com/github/sahil3Vedi/Stock-Market-Prediction/blob/master/Market_Gradient.ipynb\" target=\"_parent\"><img src=\"https://colab.research.google.com/assets/colab-badge.svg\" alt=\"Open In Colab\"/></a>"
      ]
    },
    {
      "cell_type": "code",
      "metadata": {
        "id": "JtHzqvF_TQo8",
        "colab_type": "code",
        "colab": {
          "base_uri": "https://localhost:8080/",
          "height": 34
        },
        "outputId": "50ecc067-af35-4c26-8649-6afc470b62fa"
      },
      "source": [
        "from google.colab import drive\n",
        "drive.mount('/content/drive')"
      ],
      "execution_count": 1,
      "outputs": [
        {
          "output_type": "stream",
          "text": [
            "Drive already mounted at /content/drive; to attempt to forcibly remount, call drive.mount(\"/content/drive\", force_remount=True).\n"
          ],
          "name": "stdout"
        }
      ]
    },
    {
      "cell_type": "code",
      "metadata": {
        "id": "RKyTOXTn8DEz",
        "colab_type": "code",
        "colab": {}
      },
      "source": [
        "# importing dependencies\n",
        "\n",
        "import os\n",
        "import pandas as pd\n",
        "import numpy as np"
      ],
      "execution_count": 0,
      "outputs": []
    },
    {
      "cell_type": "code",
      "metadata": {
        "id": "X50ZLUn582pD",
        "colab_type": "code",
        "colab": {}
      },
      "source": [
        "DATA_DIR = 'drive/My Drive/Stock Data'\n",
        "SBI_FILE = 'SBIN.csv'\n",
        "FILE_PATH = os.path.join(DATA_DIR,SBI_FILE)\n",
        "\n",
        "sbi_data = pd.read_csv(FILE_PATH)\n",
        "\n",
        "# Calculating Market Gradient of a Given Stock for the past N days.\n",
        "\n",
        "def harmonicSum(n):\n",
        "  ans = 0\n",
        "  for k in range (1, n+1):\n",
        "    temp = 1/k\n",
        "    ans += temp\n",
        "  return ans\n",
        "\n",
        "def market_gradient(n_Days,file_name, grade_date):\n",
        "  pd_length = len(file_name)\n",
        "  dates = file_name[\"Date\"]\n",
        "  date_list = dates.values.tolist()\n",
        "  date_index = date_list.index(grade_date)\n",
        "  p_0 = file_name.iloc[date_index][\"Open\"]\n",
        "  harmonic_sum = harmonicSum(n_Days)\n",
        "  mg = harmonic_sum*p_0\n",
        "  for z in range (n_Days):\n",
        "    p = file_name.iloc[date_index-z-1][\"Open\"]\n",
        "    tempi = p/(z+1)\n",
        "    mg -= tempi\n",
        "  return mg"
      ],
      "execution_count": 0,
      "outputs": []
    },
    {
      "cell_type": "code",
      "metadata": {
        "id": "hDsqvsYFbSHk",
        "colab_type": "code",
        "colab": {
          "base_uri": "https://localhost:8080/",
          "height": 374
        },
        "outputId": "cf6e3072-6a5d-44b8-a3ba-e44a53cb9d37"
      },
      "source": [
        "print(sbi_data.tail())\n",
        "date_today = '2020-02-28'\n",
        "print(market_gradient(1000,sbi_data,date_today))\n",
        "print(market_gradient(900,sbi_data,date_today))\n",
        "print(market_gradient(800,sbi_data,date_today))\n",
        "print(market_gradient(700,sbi_data,date_today))\n",
        "print(market_gradient(600,sbi_data,date_today))\n",
        "print(market_gradient(500,sbi_data,date_today))\n",
        "print(market_gradient(400,sbi_data,date_today))\n",
        "print(market_gradient(300,sbi_data,date_today))\n",
        "print(market_gradient(200,sbi_data,date_today))\n",
        "print(market_gradient(100,sbi_data,date_today))\n",
        "print(market_gradient(50,sbi_data,date_today))\n",
        "print(market_gradient(20,sbi_data,date_today))\n",
        "print(market_gradient(10,sbi_data,date_today))"
      ],
      "execution_count": 4,
      "outputs": [
        {
          "output_type": "stream",
          "text": [
            "            Date        Open        High  ...       Close   Adj Close    Volume\n",
            "1224  2020-02-24  325.750000  331.299988  ...  322.950012  322.950012  45273936\n",
            "1225  2020-02-25  325.899994  328.149994  ...  326.799988  326.799988  39050709\n",
            "1226  2020-02-26  324.850006  330.799988  ...  328.200012  328.200012  43915281\n",
            "1227  2020-02-27  328.000000  330.000000  ...  321.950012  321.950012  47010040\n",
            "1228  2020-02-28  312.000000  314.649994  ...  303.000000  303.000000  59705346\n",
            "\n",
            "[5 rows x 7 columns]\n",
            "4.56319998189887\n",
            "-8.556101002767269\n",
            "-15.967703874702096\n",
            "-21.76202241715924\n",
            "-25.44771236349311\n",
            "-27.335481055147667\n",
            "-39.20044697666845\n",
            "-47.95086897835669\n",
            "-54.89383523517578\n",
            "-50.95194314338709\n",
            "-52.8464490476834\n",
            "-40.65545997497417\n",
            "-38.075854684127016\n"
          ],
          "name": "stdout"
        }
      ]
    }
  ]
}