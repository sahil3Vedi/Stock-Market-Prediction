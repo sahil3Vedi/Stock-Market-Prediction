{
  "nbformat": 4,
  "nbformat_minor": 0,
  "metadata": {
    "colab": {
      "name": "Market Gradient.ipynb",
      "provenance": [],
      "collapsed_sections": [],
      "authorship_tag": "ABX9TyN6RvkLO3Gf6dRNulO05GSs",
      "include_colab_link": true
    },
    "kernelspec": {
      "name": "python3",
      "display_name": "Python 3"
    }
  },
  "cells": [
    {
      "cell_type": "markdown",
      "metadata": {
        "id": "view-in-github",
        "colab_type": "text"
      },
      "source": [
        "<a href=\"https://colab.research.google.com/github/sahil3Vedi/Stock-Market-Prediction/blob/master/Market_Gradient.ipynb\" target=\"_parent\"><img src=\"https://colab.research.google.com/assets/colab-badge.svg\" alt=\"Open In Colab\"/></a>"
      ]
    },
    {
      "cell_type": "code",
      "metadata": {
        "id": "JtHzqvF_TQo8",
        "colab_type": "code",
        "colab": {
          "base_uri": "https://localhost:8080/",
          "height": 122
        },
        "outputId": "078722b9-0d02-4491-f2c7-29b0b8c15355"
      },
      "source": [
        "from google.colab import drive\n",
        "drive.mount('/content/drive')"
      ],
      "execution_count": 1,
      "outputs": [
        {
          "output_type": "stream",
          "text": [
            "Go to this URL in a browser: https://accounts.google.com/o/oauth2/auth?client_id=947318989803-6bn6qk8qdgf4n4g3pfee6491hc0brc4i.apps.googleusercontent.com&redirect_uri=urn%3aietf%3awg%3aoauth%3a2.0%3aoob&response_type=code&scope=email%20https%3a%2f%2fwww.googleapis.com%2fauth%2fdocs.test%20https%3a%2f%2fwww.googleapis.com%2fauth%2fdrive%20https%3a%2f%2fwww.googleapis.com%2fauth%2fdrive.photos.readonly%20https%3a%2f%2fwww.googleapis.com%2fauth%2fpeopleapi.readonly\n",
            "\n",
            "Enter your authorization code:\n",
            "··········\n",
            "Mounted at /content/drive\n"
          ],
          "name": "stdout"
        }
      ]
    },
    {
      "cell_type": "code",
      "metadata": {
        "id": "RKyTOXTn8DEz",
        "colab_type": "code",
        "colab": {}
      },
      "source": [
        "# importing dependencies\n",
        "\n",
        "import os\n",
        "import pandas as pd\n",
        "import numpy as np"
      ],
      "execution_count": 0,
      "outputs": []
    },
    {
      "cell_type": "code",
      "metadata": {
        "id": "X50ZLUn582pD",
        "colab_type": "code",
        "colab": {}
      },
      "source": [
        "DATA_DIR = 'drive/My Drive/Stock Data'\n",
        "SBI_FILE = 'SBIN.csv'\n",
        "FILE_PATH = os.path.join(DATA_DIR,SBI_FILE)\n",
        "\n",
        "sbi_data = pd.read_csv(FILE_PATH)\n",
        "\n",
        "# Calculating Market Gradient of a Given Stock for the past N days.\n",
        "\n",
        "def harmonicSum(n):\n",
        "  ans = 0\n",
        "  for k in range (1, n+1):\n",
        "    temp = 1/k\n",
        "    ans += temp\n",
        "  return ans\n",
        "\n",
        "def market_gradient(n_Days,file_name, grade_date):\n",
        "  pd_length = len(file_name)\n",
        "  dates = file_name[\"Date\"]\n",
        "  date_list = dates.values.tolist()\n",
        "  date_index = date_list.index(grade_date)\n",
        "  p_0 = file_name.iloc[date_index][\"Open\"]\n",
        "  harmonic_sum = harmonicSum(n_Days)\n",
        "  mg = harmonic_sum*p_0\n",
        "  for z in range (n_Days):\n",
        "    p = file_name.iloc[date_index-z-1][\"Open\"]\n",
        "    tempi = p/(z+1)\n",
        "    mg -= tempi\n",
        "  return mg/p_0"
      ],
      "execution_count": 0,
      "outputs": []
    },
    {
      "cell_type": "code",
      "metadata": {
        "id": "hDsqvsYFbSHk",
        "colab_type": "code",
        "colab": {
          "base_uri": "https://localhost:8080/",
          "height": 374
        },
        "outputId": "08f6e04e-a7b3-4129-ef84-15a8c87898d3"
      },
      "source": [
        "print(sbi_data.tail())\n",
        "date_today = '2020-02-28'\n",
        "print(market_gradient(1000,sbi_data,date_today))\n",
        "print(market_gradient(900,sbi_data,date_today))\n",
        "print(market_gradient(800,sbi_data,date_today))\n",
        "print(market_gradient(700,sbi_data,date_today))\n",
        "print(market_gradient(600,sbi_data,date_today))\n",
        "print(market_gradient(500,sbi_data,date_today))\n",
        "print(market_gradient(400,sbi_data,date_today))\n",
        "print(market_gradient(300,sbi_data,date_today))\n",
        "print(market_gradient(200,sbi_data,date_today))\n",
        "print(market_gradient(100,sbi_data,date_today))\n",
        "print(market_gradient(50,sbi_data,date_today))\n",
        "print(market_gradient(20,sbi_data,date_today))\n",
        "print(market_gradient(10,sbi_data,date_today))"
      ],
      "execution_count": 4,
      "outputs": [
        {
          "output_type": "stream",
          "text": [
            "            Date        Open        High  ...       Close   Adj Close    Volume\n",
            "1224  2020-02-24  325.750000  331.299988  ...  322.950012  322.950012  45273936\n",
            "1225  2020-02-25  325.899994  328.149994  ...  326.799988  326.799988  39050709\n",
            "1226  2020-02-26  324.850006  330.799988  ...  328.200012  328.200012  43915281\n",
            "1227  2020-02-27  328.000000  330.000000  ...  321.950012  321.950012  47010040\n",
            "1228  2020-02-28  312.000000  314.649994  ...  303.000000  303.000000  59705346\n",
            "\n",
            "[5 rows x 7 columns]\n",
            "0.014625640967624583\n",
            "-0.027423400649895093\n",
            "-0.051178538059942616\n",
            "-0.06975007184986937\n",
            "-0.08156318065222151\n",
            "-0.0876137213306015\n",
            "-0.12564245825855272\n",
            "-0.1536886826229381\n",
            "-0.17594177959992235\n",
            "-0.1633075100749586\n",
            "-0.16937964438360065\n",
            "-0.13030596145825055\n",
            "-0.12203799578245839\n"
          ],
          "name": "stdout"
        }
      ]
    }
  ]
}